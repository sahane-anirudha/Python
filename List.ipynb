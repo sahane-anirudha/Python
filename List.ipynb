{
 "cells": [
  {
   "cell_type": "code",
   "execution_count": 4,
   "id": "e49b85a3",
   "metadata": {},
   "outputs": [
    {
     "name": "stdout",
     "output_type": "stream",
     "text": [
      "['sahane', 'anirudha', 'sanjay', 28, 2, 2004]\n"
     ]
    }
   ],
   "source": [
    "names=[\"sahane\",\"anirudha\",\"sanjay\",28,2,2004]\n",
    "print(names)"
   ]
  },
  {
   "cell_type": "code",
   "execution_count": 7,
   "id": "f9c3d8af",
   "metadata": {},
   "outputs": [
    {
     "name": "stdout",
     "output_type": "stream",
     "text": [
      "['dsds', 10, 2.14, True]\n"
     ]
    }
   ],
   "source": [
    "mixed_list=[\"dsds\",10,2.14,True]\n",
    "print(mixed_list)"
   ]
  },
  {
   "cell_type": "code",
   "execution_count": 13,
   "id": "f886720d",
   "metadata": {},
   "outputs": [
    {
     "name": "stdout",
     "output_type": "stream",
     "text": [
      "['audi', 'mercidies', 'BMW', 'Suzuki', 'toyota', 'tata']\n"
     ]
    }
   ],
   "source": [
    "### accesing list element\n",
    "\n",
    "cars=[\"audi\",\"mercidies\",\"BMW\",\"Suzuki\",\"toyota\",\"tata\",\"Mahindra\"]\n",
    "\n",
    "#cars[5]\n",
    "#cars[-1]\n",
    "print(cars[0:6])"
   ]
  },
  {
   "cell_type": "code",
   "execution_count": 16,
   "id": "76f6702f",
   "metadata": {},
   "outputs": [
    {
     "data": {
      "text/plain": [
       "['audi', 'mercidies', 'BMW', 'pagani', 'toyota', 'tata', 'Mahindra']"
      ]
     },
     "execution_count": 16,
     "metadata": {},
     "output_type": "execute_result"
    }
   ],
   "source": [
    "# modifing list\n",
    "\n",
    "cars[3]=\"pagani\"\n",
    "cars"
   ]
  },
  {
   "cell_type": "code",
   "execution_count": 17,
   "id": "3099ea0e",
   "metadata": {},
   "outputs": [],
   "source": [
    "cars.insert(2,\"buggati\")"
   ]
  },
  {
   "cell_type": "code",
   "execution_count": 18,
   "id": "d1d3e674",
   "metadata": {},
   "outputs": [
    {
     "data": {
      "text/plain": [
       "['audi', 'mercidies', 'buggati', 'BMW', 'pagani', 'toyota', 'tata', 'Mahindra']"
      ]
     },
     "execution_count": 18,
     "metadata": {},
     "output_type": "execute_result"
    }
   ],
   "source": [
    "cars"
   ]
  },
  {
   "cell_type": "code",
   "execution_count": 19,
   "id": "33c9f56a",
   "metadata": {},
   "outputs": [],
   "source": [
    "cars.append(\"MG\")"
   ]
  },
  {
   "cell_type": "code",
   "execution_count": 20,
   "id": "ee09e60d",
   "metadata": {},
   "outputs": [
    {
     "data": {
      "text/plain": [
       "['audi',\n",
       " 'mercidies',\n",
       " 'buggati',\n",
       " 'BMW',\n",
       " 'pagani',\n",
       " 'toyota',\n",
       " 'tata',\n",
       " 'Mahindra',\n",
       " 'MG']"
      ]
     },
     "execution_count": 20,
     "metadata": {},
     "output_type": "execute_result"
    }
   ],
   "source": [
    "cars"
   ]
  },
  {
   "cell_type": "code",
   "execution_count": 21,
   "id": "8e4d7b8c",
   "metadata": {},
   "outputs": [
    {
     "name": "stdout",
     "output_type": "stream",
     "text": [
      "['audi', 'mercidies', 'buggati', 'BMW', 'pagani', 'tata', 'Mahindra', 'MG']\n"
     ]
    }
   ],
   "source": [
    "cars.remove(\"toyota\")\n",
    "print(cars)"
   ]
  },
  {
   "cell_type": "code",
   "execution_count": 22,
   "id": "07de6e83",
   "metadata": {},
   "outputs": [
    {
     "name": "stdout",
     "output_type": "stream",
     "text": [
      "MG\n"
     ]
    }
   ],
   "source": [
    "poped_item=cars.pop()\n",
    "print(poped_item)"
   ]
  },
  {
   "cell_type": "code",
   "execution_count": 23,
   "id": "d2fcde03",
   "metadata": {},
   "outputs": [
    {
     "name": "stdout",
     "output_type": "stream",
     "text": [
      "['audi', 'mercidies', 'buggati', 'BMW', 'pagani', 'tata', 'Mahindra']\n"
     ]
    }
   ],
   "source": [
    "print(cars)"
   ]
  },
  {
   "cell_type": "code",
   "execution_count": 25,
   "id": "4a8f2f1d",
   "metadata": {},
   "outputs": [
    {
     "name": "stdout",
     "output_type": "stream",
     "text": [
      "3\n"
     ]
    }
   ],
   "source": [
    "to_get_index=cars.index(\"BMW\")\n",
    "\n",
    "print(to_get_index)"
   ]
  },
  {
   "cell_type": "code",
   "execution_count": 27,
   "id": "77bba95f",
   "metadata": {},
   "outputs": [],
   "source": [
    "cars.insert(2,\"BMW\")"
   ]
  },
  {
   "cell_type": "code",
   "execution_count": 28,
   "id": "f020b7cc",
   "metadata": {},
   "outputs": [
    {
     "data": {
      "text/plain": [
       "2"
      ]
     },
     "execution_count": 28,
     "metadata": {},
     "output_type": "execute_result"
    }
   ],
   "source": [
    "cars.count(\"BMW\")"
   ]
  },
  {
   "cell_type": "code",
   "execution_count": 29,
   "id": "990252d5",
   "metadata": {},
   "outputs": [],
   "source": [
    "cars.sort()"
   ]
  },
  {
   "cell_type": "code",
   "execution_count": 30,
   "id": "bca4d5cb",
   "metadata": {},
   "outputs": [
    {
     "data": {
      "text/plain": [
       "['BMW',\n",
       " 'BMW',\n",
       " 'Mahindra',\n",
       " 'audi',\n",
       " 'buggati',\n",
       " 'jeep',\n",
       " 'mercidies',\n",
       " 'pagani',\n",
       " 'tata']"
      ]
     },
     "execution_count": 30,
     "metadata": {},
     "output_type": "execute_result"
    }
   ],
   "source": [
    "cars"
   ]
  },
  {
   "cell_type": "code",
   "execution_count": 31,
   "id": "0a891f10",
   "metadata": {},
   "outputs": [
    {
     "name": "stdout",
     "output_type": "stream",
     "text": [
      "['BMW', 'BMW', 'Mahindra', 'audi', 'buggati', 'jeep', 'mercidies', 'pagani', 'tata']\n"
     ]
    }
   ],
   "source": [
    "print(cars)"
   ]
  },
  {
   "cell_type": "code",
   "execution_count": 32,
   "id": "5f3186f1",
   "metadata": {},
   "outputs": [
    {
     "name": "stdout",
     "output_type": "stream",
     "text": [
      "['tata', 'pagani', 'mercidies', 'jeep', 'buggati', 'audi', 'Mahindra', 'BMW', 'BMW']\n"
     ]
    }
   ],
   "source": [
    "cars.reverse()\n",
    "print(cars)"
   ]
  },
  {
   "cell_type": "code",
   "execution_count": 33,
   "id": "8b007875",
   "metadata": {},
   "outputs": [
    {
     "name": "stdout",
     "output_type": "stream",
     "text": [
      "[]\n"
     ]
    }
   ],
   "source": [
    "cars.clear()\n",
    "print(cars)"
   ]
  },
  {
   "cell_type": "code",
   "execution_count": null,
   "id": "a991d747",
   "metadata": {},
   "outputs": [
    {
     "name": "stdout",
     "output_type": "stream",
     "text": [
      "[3, 4, 5, 6, 7, 8, 9, 10]\n"
     ]
    }
   ],
   "source": [
    "#slicing the list \n",
    "\n",
    "number=[1,2,3,4,5,6,7,8,9,10]\n",
    "\n",
    "# print(number[1:3])\n",
    "# print(number[::-1])\n",
    "# print(number[2:])"
   ]
  },
  {
   "cell_type": "code",
   "execution_count": 38,
   "id": "c4dfd892",
   "metadata": {},
   "outputs": [
    {
     "name": "stdout",
     "output_type": "stream",
     "text": [
      "1\n",
      "2\n",
      "3\n",
      "4\n",
      "5\n",
      "6\n",
      "7\n",
      "8\n",
      "9\n",
      "10\n"
     ]
    }
   ],
   "source": [
    "for i in number:\n",
    "    print(i)"
   ]
  },
  {
   "cell_type": "code",
   "execution_count": 39,
   "id": "68223654",
   "metadata": {},
   "outputs": [
    {
     "name": "stdout",
     "output_type": "stream",
     "text": [
      "0 1\n",
      "1 2\n",
      "2 3\n",
      "3 4\n",
      "4 5\n",
      "5 6\n",
      "6 7\n",
      "7 8\n",
      "8 9\n",
      "9 10\n"
     ]
    }
   ],
   "source": [
    "for index,i in enumerate(number):\n",
    "    print(index,i)"
   ]
  },
  {
   "cell_type": "code",
   "execution_count": 40,
   "id": "7170f568",
   "metadata": {},
   "outputs": [
    {
     "name": "stdout",
     "output_type": "stream",
     "text": [
      "0 2\n",
      "1 4\n",
      "2 6\n",
      "3 8\n",
      "4 10\n",
      "5 12\n",
      "6 14\n",
      "7 16\n",
      "8 18\n",
      "9 20\n"
     ]
    }
   ],
   "source": [
    "num1=[2,4,6,8,10,12,14,16,18,20]\n",
    "\n",
    "for index,num1 in enumerate(num1):\n",
    "    print(index,num1)"
   ]
  },
  {
   "cell_type": "code",
   "execution_count": null,
   "id": "9f9feafa",
   "metadata": {},
   "outputs": [],
   "source": []
  }
 ],
 "metadata": {
  "kernelspec": {
   "display_name": "base",
   "language": "python",
   "name": "python3"
  },
  "language_info": {
   "codemirror_mode": {
    "name": "ipython",
    "version": 3
   },
   "file_extension": ".py",
   "mimetype": "text/x-python",
   "name": "python",
   "nbconvert_exporter": "python",
   "pygments_lexer": "ipython3",
   "version": "3.12.7"
  }
 },
 "nbformat": 4,
 "nbformat_minor": 5
}
