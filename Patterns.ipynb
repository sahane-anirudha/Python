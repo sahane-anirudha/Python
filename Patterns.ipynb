{
 "cells": [
  {
   "cell_type": "markdown",
   "id": "16a149fe",
   "metadata": {},
   "source": [
    "Square Pattern"
   ]
  },
  {
   "cell_type": "code",
   "execution_count": 17,
   "id": "2c518d94",
   "metadata": {},
   "outputs": [
    {
     "name": "stdout",
     "output_type": "stream",
     "text": [
      "*  *  *  *  *  \n",
      "*  *  *  *  *  \n",
      "*  *  *  *  *  \n",
      "*  *  *  *  *  \n",
      "*  *  *  *  *  \n"
     ]
    }
   ],
   "source": [
    "n=5\n",
    "for j in range(n):\n",
    "    for i in range(n):\n",
    "        print(\"*\",end=\"  \")\n",
    "    print()"
   ]
  },
  {
   "cell_type": "markdown",
   "id": "3ab04205",
   "metadata": {},
   "source": [
    "Incresing Traingle Pattern"
   ]
  },
  {
   "cell_type": "code",
   "execution_count": 25,
   "id": "0ebdb3eb",
   "metadata": {},
   "outputs": [
    {
     "name": "stdout",
     "output_type": "stream",
     "text": [
      "* \n",
      "* * \n",
      "* * * \n",
      "* * * * \n",
      "* * * * * \n"
     ]
    }
   ],
   "source": [
    "\n",
    "\n",
    "for i in range(5):\n",
    "    for j in range(i+1):\n",
    "        print(\"* \" , end=\"\")\n",
    "\n",
    "    print()    "
   ]
  },
  {
   "cell_type": "markdown",
   "id": "fef83a67",
   "metadata": {},
   "source": [
    "Decreasing Traingle Pattern"
   ]
  },
  {
   "cell_type": "code",
   "execution_count": 31,
   "id": "b09fb094",
   "metadata": {},
   "outputs": [
    {
     "name": "stdout",
     "output_type": "stream",
     "text": [
      "*  *  *  *  *  \n",
      "*  *  *  *  \n",
      "*  *  *  \n",
      "*  *  \n",
      "*  \n"
     ]
    }
   ],
   "source": [
    "for i in range(5):\n",
    "    for j in range(i,5):\n",
    "        print(\"* \",end=\" \")\n",
    "\n",
    "    print()    "
   ]
  },
  {
   "cell_type": "markdown",
   "id": "9416de2e",
   "metadata": {},
   "source": [
    "Right Side Triangle"
   ]
  },
  {
   "cell_type": "code",
   "execution_count": 40,
   "id": "9a94eebc",
   "metadata": {},
   "outputs": [
    {
     "name": "stdout",
     "output_type": "stream",
     "text": [
      "          * \n",
      "        * * \n",
      "      * * * \n",
      "    * * * * \n",
      "  * * * * * \n"
     ]
    }
   ],
   "source": [
    "n=5 \n",
    "\n",
    "for i in range(n):\n",
    "    for j in range(i,n):\n",
    "        print(\" \",end=\" \")\n",
    "    for j in range (i+1):\n",
    "        print(\"*\",end=\" \")\n",
    "\n",
    "    print()        "
   ]
  },
  {
   "cell_type": "markdown",
   "id": "ac858adb",
   "metadata": {},
   "source": [
    "Right side triange"
   ]
  },
  {
   "cell_type": "code",
   "execution_count": 42,
   "id": "9e2054a1",
   "metadata": {},
   "outputs": [
    {
     "name": "stdout",
     "output_type": "stream",
     "text": [
      "  * * * * * \n",
      "    * * * * \n",
      "      * * * \n",
      "        * * \n",
      "          * \n"
     ]
    }
   ],
   "source": [
    "n=5 \n",
    "for i in range(n):\n",
    "    for j in range(i+1):\n",
    "        print(\" \",end=\" \")\n",
    "\n",
    "    for j in range(i,n):\n",
    "        print(\"*\",end=\" \")\n",
    "\n",
    "    print()        "
   ]
  },
  {
   "cell_type": "markdown",
   "id": "7626f812",
   "metadata": {},
   "source": [
    "Hill Pattern"
   ]
  },
  {
   "cell_type": "code",
   "execution_count": 4,
   "id": "385c5dcd",
   "metadata": {},
   "outputs": [
    {
     "name": "stdout",
     "output_type": "stream",
     "text": [
      "          * \n",
      "        * * * \n",
      "      * * * * * \n",
      "    * * * * * * * \n",
      "  * * * * * * * * * \n"
     ]
    }
   ],
   "source": [
    "n=5\n",
    "\n",
    "for i in range(n):\n",
    "    for j in range(i,n):\n",
    "        print(\" \",end=\" \")\n",
    "\n",
    "    for j in range(i+1):\n",
    "        print(\"*\",end=\" \")\n",
    "\n",
    "    for i in range(i):\n",
    "        print(\"*\",end=\" \")    \n",
    "\n",
    "    print()        "
   ]
  },
  {
   "cell_type": "markdown",
   "id": "5ac6bb2c",
   "metadata": {},
   "source": [
    "decreasing mountain pattern"
   ]
  },
  {
   "cell_type": "code",
   "execution_count": 11,
   "id": "f5e430b8",
   "metadata": {},
   "outputs": [
    {
     "name": "stdout",
     "output_type": "stream",
     "text": [
      "  * * * * * * * * * \n",
      "    * * * * * * * \n",
      "      * * * * * \n",
      "        * * * \n",
      "          * \n"
     ]
    }
   ],
   "source": [
    "n=5\n",
    "\n",
    "for i in range(n):\n",
    "    for j in range(i+1):\n",
    "        print(\" \",end=\" \")\n",
    "\n",
    "    for j in range(i,n-1):\n",
    "        print(\"*\",end=\" \")\n",
    "\n",
    "    for j in range(i,n):\n",
    "        print(\"*\",end=\" \")\n",
    "\n",
    "    print()            "
   ]
  },
  {
   "cell_type": "code",
   "execution_count": 20,
   "id": "9bbde792",
   "metadata": {},
   "outputs": [
    {
     "name": "stdout",
     "output_type": "stream",
     "text": [
      "          * \n",
      "        * * * \n",
      "      * * * * * \n",
      "    * * * * * * * \n",
      "  * * * * * * * * * \n",
      "    * * * * * * * \n",
      "      * * * * * \n",
      "        * * * \n",
      "          * \n"
     ]
    }
   ],
   "source": [
    "n=5\n",
    "\n",
    "for i in range(n-1):\n",
    "    for j in range(i,n):\n",
    "        print(\" \",end=\" \")\n",
    "\n",
    "    for j in range(i+1):\n",
    "        print(\"*\",end=\" \")\n",
    "\n",
    "    for i in range(i):\n",
    "        print(\"*\",end=\" \")    \n",
    "\n",
    "    print()       \n",
    "\n",
    "for i in range(n):\n",
    "    for j in range(i+1):\n",
    "        print(\" \",end=\" \")\n",
    "\n",
    "    for j in range(i,n-1):\n",
    "        print(\"*\",end=\" \")\n",
    "\n",
    "    for j in range(i,n):\n",
    "        print(\"*\",end=\" \")\n",
    "\n",
    "    print()  \n"
   ]
  },
  {
   "cell_type": "code",
   "execution_count": null,
   "id": "3af48b4f",
   "metadata": {},
   "outputs": [],
   "source": []
  }
 ],
 "metadata": {
  "kernelspec": {
   "display_name": "base",
   "language": "python",
   "name": "python3"
  },
  "language_info": {
   "codemirror_mode": {
    "name": "ipython",
    "version": 3
   },
   "file_extension": ".py",
   "mimetype": "text/x-python",
   "name": "python",
   "nbconvert_exporter": "python",
   "pygments_lexer": "ipython3",
   "version": "3.12.7"
  }
 },
 "nbformat": 4,
 "nbformat_minor": 5
}
