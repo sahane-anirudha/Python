{
 "cells": [
  {
   "cell_type": "markdown",
   "id": "fedeae0d",
   "metadata": {},
   "source": [
    "Dictionaries"
   ]
  },
  {
   "cell_type": "code",
   "execution_count": 1,
   "id": "76c7bd06",
   "metadata": {},
   "outputs": [
    {
     "name": "stdout",
     "output_type": "stream",
     "text": [
      "<class 'dict'>\n"
     ]
    }
   ],
   "source": [
    "empty_dict={}\n",
    "print(type(empty_dict))"
   ]
  },
  {
   "cell_type": "code",
   "execution_count": null,
   "id": "6f2a32ba",
   "metadata": {},
   "outputs": [
    {
     "name": "stdout",
     "output_type": "stream",
     "text": [
      "<class 'dict'>\n"
     ]
    }
   ],
   "source": [
    "empty_dict=dict()   # 2 nd method to Create Dict\n",
    "print(type(empty_dict))"
   ]
  },
  {
   "cell_type": "code",
   "execution_count": 4,
   "id": "90b91a74",
   "metadata": {},
   "outputs": [
    {
     "name": "stdout",
     "output_type": "stream",
     "text": [
      "{'Name': 'Anirudha', 'Father-Name': 'Sanjay', 'Family-Name': 'Sahane', 'Age': 21, 'Dept': 'Computer Engineer'}\n",
      "<class 'dict'>\n"
     ]
    }
   ],
   "source": [
    "# key-value pair\n",
    "\n",
    "info={\"Name\":\"Anirudha\",\"Father-Name\":\"Sanjay\",\"Family-Name\":\"Sahane\",\"Age\":21,\"Dept\":\"Computer Engineer\"}\n",
    "print(info)\n",
    "print(type(info))"
   ]
  },
  {
   "cell_type": "code",
   "execution_count": 7,
   "id": "73a4d69c",
   "metadata": {},
   "outputs": [
    {
     "name": "stdout",
     "output_type": "stream",
     "text": [
      "{'Name': 'Anirudha', 'Surname': 'Sahane'}\n"
     ]
    }
   ],
   "source": [
    "# key should unique : value can be Same\n",
    "\n",
    "dict1={\"Name\":\"Anirudha\",\"Surname\":\"Sahane\"}\n",
    "print(dict1)"
   ]
  },
  {
   "cell_type": "code",
   "execution_count": 8,
   "id": "692e7230",
   "metadata": {},
   "outputs": [
    {
     "name": "stdout",
     "output_type": "stream",
     "text": [
      "Anirudha\n"
     ]
    }
   ],
   "source": [
    "# Access the dict\n",
    "\n",
    "print(dict1['Name'])"
   ]
  },
  {
   "cell_type": "code",
   "execution_count": 9,
   "id": "293d2f27",
   "metadata": {},
   "outputs": [
    {
     "name": "stdout",
     "output_type": "stream",
     "text": [
      "Anirudha\n"
     ]
    }
   ],
   "source": [
    "# accessing using .get() method\n",
    "\n",
    "print(dict1.get('Name'))"
   ]
  },
  {
   "cell_type": "code",
   "execution_count": 11,
   "id": "eda85d01",
   "metadata": {},
   "outputs": [
    {
     "name": "stdout",
     "output_type": "stream",
     "text": [
      "{'a': 1, 'b': 2, 'c': 3}\n"
     ]
    }
   ],
   "source": [
    "# modifing the dict \n",
    "\n",
    "dict2 = {'a': 1, 'b': 2, 'c': 3}\n",
    "print(dict2)"
   ]
  },
  {
   "cell_type": "code",
   "execution_count": null,
   "id": "e6ed5dca",
   "metadata": {},
   "outputs": [
    {
     "name": "stdout",
     "output_type": "stream",
     "text": [
      "{'a': 9, 'b': 2, 'c': 3}\n"
     ]
    }
   ],
   "source": [
    "dict2['a']=9            # Updated\n",
    "print(dict2)"
   ]
  },
  {
   "cell_type": "code",
   "execution_count": null,
   "id": "296f5d60",
   "metadata": {},
   "outputs": [
    {
     "name": "stdout",
     "output_type": "stream",
     "text": [
      "{'a': 9, 'b': 'Sahane', 'c': 3}\n"
     ]
    }
   ],
   "source": [
    "dict2['b']=\"Sahane\"   #updated\n",
    "print(dict2)"
   ]
  },
  {
   "cell_type": "code",
   "execution_count": null,
   "id": "1359bffd",
   "metadata": {},
   "outputs": [
    {
     "name": "stdout",
     "output_type": "stream",
     "text": [
      "{'a': 9, 'b': 'Sahane', 'c': 3, 'Addresss': 'At post chikhali'}\n"
     ]
    }
   ],
   "source": [
    "dict2[\"Addresss\"]=\"At post chikhali\"   # Added the key-value pair\n",
    "print(dict2)"
   ]
  },
  {
   "cell_type": "code",
   "execution_count": null,
   "id": "79e1bd7f",
   "metadata": {},
   "outputs": [
    {
     "name": "stdout",
     "output_type": "stream",
     "text": [
      "{'a': 9, 'Addresss': 'At post chikhali'}\n"
     ]
    }
   ],
   "source": [
    "del dict2['b']        # delete - if we delete the key then the value also deleted...\n",
    "print(dict2)"
   ]
  },
  {
   "cell_type": "code",
   "execution_count": 23,
   "id": "6c9ab31d",
   "metadata": {},
   "outputs": [
    {
     "name": "stdout",
     "output_type": "stream",
     "text": [
      "{'Audi': 2025, 'BMW': 2022, 'Mercidies': 2026, 'Pagani': 2026}\n"
     ]
    }
   ],
   "source": [
    "# Dictionary Methods\n",
    "\n",
    "Cars={\"Audi\":2025,\"BMW\":2022,\"Mercidies\":2026,\"Pagani\":2026}\n",
    "print(Cars)"
   ]
  },
  {
   "cell_type": "code",
   "execution_count": null,
   "id": "83951c0e",
   "metadata": {},
   "outputs": [
    {
     "name": "stdout",
     "output_type": "stream",
     "text": [
      "dict_keys(['Audi', 'BMW', 'Mercidies', 'Pagani'])\n"
     ]
    }
   ],
   "source": [
    "keys=Cars.keys() #get All keys\n",
    "print(keys)"
   ]
  },
  {
   "cell_type": "code",
   "execution_count": 28,
   "id": "0a651094",
   "metadata": {},
   "outputs": [
    {
     "name": "stdout",
     "output_type": "stream",
     "text": [
      "dict_values([2025, 2022, 2026, 2026])\n"
     ]
    }
   ],
   "source": [
    "Values=Cars.values()\n",
    "print(Values)\n"
   ]
  },
  {
   "cell_type": "code",
   "execution_count": 30,
   "id": "4684d258",
   "metadata": {},
   "outputs": [
    {
     "name": "stdout",
     "output_type": "stream",
     "text": [
      "dict_items([('Audi', 2025), ('BMW', 2022), ('Mercidies', 2026), ('Pagani', 2026)])\n"
     ]
    }
   ],
   "source": [
    "items_All_dict=Cars.items()\n",
    "print(items_All_dict)"
   ]
  },
  {
   "cell_type": "markdown",
   "id": "1d99c06c",
   "metadata": {},
   "source": [
    "Nested Dict"
   ]
  },
  {
   "cell_type": "code",
   "execution_count": 37,
   "id": "49ed05bf",
   "metadata": {},
   "outputs": [
    {
     "name": "stdout",
     "output_type": "stream",
     "text": [
      "{'stud1': {'name': 'abhi', 'age': 22}, 'stud2': {'name': 'ram', 'age': 24}}\n"
     ]
    }
   ],
   "source": [
    "students={\n",
    "    \"stud1\":{\"name\":\"abhi\",\"age\":22},\n",
    "    \"stud2\":{\"name\":\"ram\",\"age\":24}\n",
    "\n",
    "}\n",
    "print(students)"
   ]
  },
  {
   "cell_type": "code",
   "execution_count": 38,
   "id": "9189d706",
   "metadata": {},
   "outputs": [
    {
     "name": "stdout",
     "output_type": "stream",
     "text": [
      "22\n",
      "24\n"
     ]
    }
   ],
   "source": [
    "print(students['stud1'][\"age\"])\n",
    "print(students['stud2'][\"age\"])"
   ]
  },
  {
   "cell_type": "code",
   "execution_count": null,
   "id": "1a4fba8b",
   "metadata": {},
   "outputs": [],
   "source": []
  }
 ],
 "metadata": {
  "kernelspec": {
   "display_name": "base",
   "language": "python",
   "name": "python3"
  },
  "language_info": {
   "codemirror_mode": {
    "name": "ipython",
    "version": 3
   },
   "file_extension": ".py",
   "mimetype": "text/x-python",
   "name": "python",
   "nbconvert_exporter": "python",
   "pygments_lexer": "ipython3",
   "version": "3.12.7"
  }
 },
 "nbformat": 4,
 "nbformat_minor": 5
}
